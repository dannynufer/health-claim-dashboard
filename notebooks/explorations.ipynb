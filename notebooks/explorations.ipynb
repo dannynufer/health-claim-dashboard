{
 "cells": [
  {
   "cell_type": "code",
   "execution_count": null,
   "id": "d53082f6",
   "metadata": {},
   "outputs": [],
   "source": [
    "import pandas as pd\n",
    "import numpy as np\n",
    "\n",
    "# Generate random data\n",
    "np.random.seed(42)  # For reproducibility\n",
    "data = {\n",
    "    \"Age\": np.random.randint(18, 80, size=1000),  # Random ages between 18 and 80\n",
    "    \"PolicyType\": np.random.choice([\"Auto\", \"Home\", \"Life\"], size=1000),  # Random policy types\n",
    "    \"PremiumAmount\": np.random.uniform(100, 1000, size=1000)  # Random premium amounts between 100 and 1000\n",
    "}\n",
    "\n",
    "# Create DataFrame\n",
    "df = pd.DataFrame(data)\n",
    "\n",
    "df.head()  # Display the first few rows of the DataFrame"
   ]
  },
  {
   "cell_type": "code",
   "execution_count": 17,
   "id": "97ee8c87",
   "metadata": {},
   "outputs": [
    {
     "name": "stdout",
     "output_type": "stream",
     "text": [
      "   index  PatientID   age gender   bmi  bloodpressure diabetic  children  \\\n",
      "0      0          1  39.0   male  23.2             91      Yes         0   \n",
      "1      1          2  24.0   male  30.1             87       No         0   \n",
      "2      2          3   NaN   male  33.3             82      Yes         0   \n",
      "3      3          4   NaN   male  33.7             80       No         0   \n",
      "4      4          5   NaN   male  34.1            100       No         0   \n",
      "\n",
      "  smoker     region    claim  \n",
      "0     No  southeast  1121.87  \n",
      "1     No  southeast  1131.51  \n",
      "2     No  southeast  1135.94  \n",
      "3     No  northwest  1136.40  \n",
      "4     No  northwest  1137.01  \n"
     ]
    }
   ],
   "source": [
    "import pandas as pd\n",
    "\n",
    "df = pd.read_csv('../data/insurance_data.csv')  # Adjust the filename as necessary\n",
    "print(df.head())\n"
   ]
  },
  {
   "cell_type": "code",
   "execution_count": 18,
   "id": "0c6be216",
   "metadata": {},
   "outputs": [
    {
     "name": "stdout",
     "output_type": "stream",
     "text": [
      "0\n"
     ]
    }
   ],
   "source": [
    "# Drop rows where 'age' is missing\n",
    "df = df.dropna(subset=['age'])\n",
    "\n",
    "# Confirm it's clean\n",
    "print(df['age'].isnull().sum())\n"
   ]
  },
  {
   "cell_type": "code",
   "execution_count": 19,
   "id": "7db62c11",
   "metadata": {},
   "outputs": [
    {
     "name": "stdout",
     "output_type": "stream",
     "text": [
      "   index  PatientID   age   bmi  bloodpressure  children     region    claim  \\\n",
      "0      0          1  39.0  23.2             91         0  southeast  1121.87   \n",
      "1      1          2  24.0  30.1             87         0  southeast  1131.51   \n",
      "7      7          8  19.0  41.1            100         0  northwest  1146.80   \n",
      "8      8          9  20.0  43.0             86         0  northwest  1149.40   \n",
      "9      9         10  30.0  53.1             97         0  northwest  1163.46   \n",
      "\n",
      "   gender_male  smoker_Yes  diabetic_Yes  \n",
      "0         True       False          True  \n",
      "1         True       False         False  \n",
      "7         True       False         False  \n",
      "8         True       False         False  \n",
      "9         True       False         False  \n"
     ]
    }
   ],
   "source": [
    "# encode categorical columns\n",
    "df_encoded = pd.get_dummies(df, columns=['gender', 'smoker', 'diabetic'], drop_first=True)\n",
    "\n",
    "# Preview the new dataframe\n",
    "print(df_encoded.head())\n"
   ]
  },
  {
   "cell_type": "code",
   "execution_count": 21,
   "id": "2153ed4b",
   "metadata": {},
   "outputs": [
    {
     "data": {
      "text/html": [
       "<div>\n",
       "<style scoped>\n",
       "    .dataframe tbody tr th:only-of-type {\n",
       "        vertical-align: middle;\n",
       "    }\n",
       "\n",
       "    .dataframe tbody tr th {\n",
       "        vertical-align: top;\n",
       "    }\n",
       "\n",
       "    .dataframe thead th {\n",
       "        text-align: right;\n",
       "    }\n",
       "</style>\n",
       "<table border=\"1\" class=\"dataframe\">\n",
       "  <thead>\n",
       "    <tr style=\"text-align: right;\">\n",
       "      <th></th>\n",
       "      <th>index</th>\n",
       "      <th>PatientID</th>\n",
       "      <th>age</th>\n",
       "      <th>bmi</th>\n",
       "      <th>bloodpressure</th>\n",
       "      <th>children</th>\n",
       "      <th>region</th>\n",
       "      <th>claim</th>\n",
       "      <th>gender_male</th>\n",
       "      <th>smoker_Yes</th>\n",
       "      <th>diabetic_Yes</th>\n",
       "    </tr>\n",
       "  </thead>\n",
       "  <tbody>\n",
       "    <tr>\n",
       "      <th>0</th>\n",
       "      <td>0</td>\n",
       "      <td>1</td>\n",
       "      <td>39.0</td>\n",
       "      <td>23.2</td>\n",
       "      <td>91</td>\n",
       "      <td>0</td>\n",
       "      <td>southeast</td>\n",
       "      <td>1121.87</td>\n",
       "      <td>1</td>\n",
       "      <td>0</td>\n",
       "      <td>1</td>\n",
       "    </tr>\n",
       "    <tr>\n",
       "      <th>1</th>\n",
       "      <td>1</td>\n",
       "      <td>2</td>\n",
       "      <td>24.0</td>\n",
       "      <td>30.1</td>\n",
       "      <td>87</td>\n",
       "      <td>0</td>\n",
       "      <td>southeast</td>\n",
       "      <td>1131.51</td>\n",
       "      <td>1</td>\n",
       "      <td>0</td>\n",
       "      <td>0</td>\n",
       "    </tr>\n",
       "    <tr>\n",
       "      <th>7</th>\n",
       "      <td>7</td>\n",
       "      <td>8</td>\n",
       "      <td>19.0</td>\n",
       "      <td>41.1</td>\n",
       "      <td>100</td>\n",
       "      <td>0</td>\n",
       "      <td>northwest</td>\n",
       "      <td>1146.80</td>\n",
       "      <td>1</td>\n",
       "      <td>0</td>\n",
       "      <td>0</td>\n",
       "    </tr>\n",
       "    <tr>\n",
       "      <th>8</th>\n",
       "      <td>8</td>\n",
       "      <td>9</td>\n",
       "      <td>20.0</td>\n",
       "      <td>43.0</td>\n",
       "      <td>86</td>\n",
       "      <td>0</td>\n",
       "      <td>northwest</td>\n",
       "      <td>1149.40</td>\n",
       "      <td>1</td>\n",
       "      <td>0</td>\n",
       "      <td>0</td>\n",
       "    </tr>\n",
       "    <tr>\n",
       "      <th>9</th>\n",
       "      <td>9</td>\n",
       "      <td>10</td>\n",
       "      <td>30.0</td>\n",
       "      <td>53.1</td>\n",
       "      <td>97</td>\n",
       "      <td>0</td>\n",
       "      <td>northwest</td>\n",
       "      <td>1163.46</td>\n",
       "      <td>1</td>\n",
       "      <td>0</td>\n",
       "      <td>0</td>\n",
       "    </tr>\n",
       "  </tbody>\n",
       "</table>\n",
       "</div>"
      ],
      "text/plain": [
       "   index  PatientID   age   bmi  bloodpressure  children     region    claim  \\\n",
       "0      0          1  39.0  23.2             91         0  southeast  1121.87   \n",
       "1      1          2  24.0  30.1             87         0  southeast  1131.51   \n",
       "7      7          8  19.0  41.1            100         0  northwest  1146.80   \n",
       "8      8          9  20.0  43.0             86         0  northwest  1149.40   \n",
       "9      9         10  30.0  53.1             97         0  northwest  1163.46   \n",
       "\n",
       "   gender_male  smoker_Yes  diabetic_Yes  \n",
       "0            1           0             1  \n",
       "1            1           0             0  \n",
       "7            1           0             0  \n",
       "8            1           0             0  \n",
       "9            1           0             0  "
      ]
     },
     "execution_count": 21,
     "metadata": {},
     "output_type": "execute_result"
    }
   ],
   "source": [
    "# Convert any boolean columns to integers (0/1)\n",
    "for col in df_encoded.columns:\n",
    "    if df_encoded[col].dtype == 'bool':\n",
    "        df_encoded[col] = df_encoded[col].astype(int)\n",
    "        \n",
    "# Dont think this is necessary, but just cleaner\n",
    "\n",
    "df_encoded.head()\n"
   ]
  },
  {
   "cell_type": "code",
   "execution_count": 25,
   "id": "2e10419c",
   "metadata": {},
   "outputs": [
    {
     "data": {
      "text/html": [
       "<div>\n",
       "<style scoped>\n",
       "    .dataframe tbody tr th:only-of-type {\n",
       "        vertical-align: middle;\n",
       "    }\n",
       "\n",
       "    .dataframe tbody tr th {\n",
       "        vertical-align: top;\n",
       "    }\n",
       "\n",
       "    .dataframe thead th {\n",
       "        text-align: right;\n",
       "    }\n",
       "</style>\n",
       "<table border=\"1\" class=\"dataframe\">\n",
       "  <thead>\n",
       "    <tr style=\"text-align: right;\">\n",
       "      <th></th>\n",
       "      <th>age</th>\n",
       "      <th>bmi</th>\n",
       "      <th>bloodpressure</th>\n",
       "      <th>children</th>\n",
       "      <th>gender_male</th>\n",
       "      <th>smoker_Yes</th>\n",
       "      <th>diabetic_Yes</th>\n",
       "    </tr>\n",
       "  </thead>\n",
       "  <tbody>\n",
       "    <tr>\n",
       "      <th>0</th>\n",
       "      <td>39.0</td>\n",
       "      <td>23.2</td>\n",
       "      <td>91</td>\n",
       "      <td>0</td>\n",
       "      <td>1</td>\n",
       "      <td>0</td>\n",
       "      <td>1</td>\n",
       "    </tr>\n",
       "    <tr>\n",
       "      <th>1</th>\n",
       "      <td>24.0</td>\n",
       "      <td>30.1</td>\n",
       "      <td>87</td>\n",
       "      <td>0</td>\n",
       "      <td>1</td>\n",
       "      <td>0</td>\n",
       "      <td>0</td>\n",
       "    </tr>\n",
       "    <tr>\n",
       "      <th>7</th>\n",
       "      <td>19.0</td>\n",
       "      <td>41.1</td>\n",
       "      <td>100</td>\n",
       "      <td>0</td>\n",
       "      <td>1</td>\n",
       "      <td>0</td>\n",
       "      <td>0</td>\n",
       "    </tr>\n",
       "    <tr>\n",
       "      <th>8</th>\n",
       "      <td>20.0</td>\n",
       "      <td>43.0</td>\n",
       "      <td>86</td>\n",
       "      <td>0</td>\n",
       "      <td>1</td>\n",
       "      <td>0</td>\n",
       "      <td>0</td>\n",
       "    </tr>\n",
       "    <tr>\n",
       "      <th>9</th>\n",
       "      <td>30.0</td>\n",
       "      <td>53.1</td>\n",
       "      <td>97</td>\n",
       "      <td>0</td>\n",
       "      <td>1</td>\n",
       "      <td>0</td>\n",
       "      <td>0</td>\n",
       "    </tr>\n",
       "  </tbody>\n",
       "</table>\n",
       "</div>"
      ],
      "text/plain": [
       "    age   bmi  bloodpressure  children  gender_male  smoker_Yes  diabetic_Yes\n",
       "0  39.0  23.2             91         0            1           0             1\n",
       "1  24.0  30.1             87         0            1           0             0\n",
       "7  19.0  41.1            100         0            1           0             0\n",
       "8  20.0  43.0             86         0            1           0             0\n",
       "9  30.0  53.1             97         0            1           0             0"
      ]
     },
     "execution_count": 25,
     "metadata": {},
     "output_type": "execute_result"
    }
   ],
   "source": [
    "# Define feature matrix (X) and target vector (y)\n",
    "X = df_encoded[['age', 'bmi', 'bloodpressure', 'children', 'gender_male', 'smoker_Yes', 'diabetic_Yes']]\n",
    "y = df_encoded['claim']\n",
    "\n",
    "X.head() # Display the first few rows of X to confirm they are correct\n"
   ]
  },
  {
   "cell_type": "code",
   "execution_count": 26,
   "id": "46319fdb",
   "metadata": {},
   "outputs": [
    {
     "data": {
      "text/html": [
       "<div>\n",
       "<style scoped>\n",
       "    .dataframe tbody tr th:only-of-type {\n",
       "        vertical-align: middle;\n",
       "    }\n",
       "\n",
       "    .dataframe tbody tr th {\n",
       "        vertical-align: top;\n",
       "    }\n",
       "\n",
       "    .dataframe thead th {\n",
       "        text-align: right;\n",
       "    }\n",
       "</style>\n",
       "<table border=\"1\" class=\"dataframe\">\n",
       "  <thead>\n",
       "    <tr style=\"text-align: right;\">\n",
       "      <th></th>\n",
       "      <th>const</th>\n",
       "      <th>age</th>\n",
       "      <th>bmi</th>\n",
       "      <th>bloodpressure</th>\n",
       "      <th>children</th>\n",
       "      <th>gender_male</th>\n",
       "      <th>smoker_Yes</th>\n",
       "      <th>diabetic_Yes</th>\n",
       "    </tr>\n",
       "  </thead>\n",
       "  <tbody>\n",
       "    <tr>\n",
       "      <th>0</th>\n",
       "      <td>1.0</td>\n",
       "      <td>39.0</td>\n",
       "      <td>23.2</td>\n",
       "      <td>91</td>\n",
       "      <td>0</td>\n",
       "      <td>1</td>\n",
       "      <td>0</td>\n",
       "      <td>1</td>\n",
       "    </tr>\n",
       "    <tr>\n",
       "      <th>1</th>\n",
       "      <td>1.0</td>\n",
       "      <td>24.0</td>\n",
       "      <td>30.1</td>\n",
       "      <td>87</td>\n",
       "      <td>0</td>\n",
       "      <td>1</td>\n",
       "      <td>0</td>\n",
       "      <td>0</td>\n",
       "    </tr>\n",
       "    <tr>\n",
       "      <th>7</th>\n",
       "      <td>1.0</td>\n",
       "      <td>19.0</td>\n",
       "      <td>41.1</td>\n",
       "      <td>100</td>\n",
       "      <td>0</td>\n",
       "      <td>1</td>\n",
       "      <td>0</td>\n",
       "      <td>0</td>\n",
       "    </tr>\n",
       "    <tr>\n",
       "      <th>8</th>\n",
       "      <td>1.0</td>\n",
       "      <td>20.0</td>\n",
       "      <td>43.0</td>\n",
       "      <td>86</td>\n",
       "      <td>0</td>\n",
       "      <td>1</td>\n",
       "      <td>0</td>\n",
       "      <td>0</td>\n",
       "    </tr>\n",
       "    <tr>\n",
       "      <th>9</th>\n",
       "      <td>1.0</td>\n",
       "      <td>30.0</td>\n",
       "      <td>53.1</td>\n",
       "      <td>97</td>\n",
       "      <td>0</td>\n",
       "      <td>1</td>\n",
       "      <td>0</td>\n",
       "      <td>0</td>\n",
       "    </tr>\n",
       "  </tbody>\n",
       "</table>\n",
       "</div>"
      ],
      "text/plain": [
       "   const   age   bmi  bloodpressure  children  gender_male  smoker_Yes  \\\n",
       "0    1.0  39.0  23.2             91         0            1           0   \n",
       "1    1.0  24.0  30.1             87         0            1           0   \n",
       "7    1.0  19.0  41.1            100         0            1           0   \n",
       "8    1.0  20.0  43.0             86         0            1           0   \n",
       "9    1.0  30.0  53.1             97         0            1           0   \n",
       "\n",
       "   diabetic_Yes  \n",
       "0             1  \n",
       "1             0  \n",
       "7             0  \n",
       "8             0  \n",
       "9             0  "
      ]
     },
     "execution_count": 26,
     "metadata": {},
     "output_type": "execute_result"
    }
   ],
   "source": [
    "X = sm.add_constant(X)\n",
    "X.head()"
   ]
  },
  {
   "cell_type": "code",
   "execution_count": 27,
   "id": "43bd356a",
   "metadata": {},
   "outputs": [
    {
     "name": "stderr",
     "output_type": "stream",
     "text": [
      "c:\\Users\\danny\\OneDrive\\Documents\\Actuary-stuff\\claims-risk-analyser\\venv\\Lib\\site-packages\\statsmodels\\genmod\\families\\links.py:13: FutureWarning: The log link alias is deprecated. Use Log instead. The log link alias will be removed after the 0.15.0 release.\n",
      "  warnings.warn(\n"
     ]
    },
    {
     "name": "stdout",
     "output_type": "stream",
     "text": [
      "                 Generalized Linear Model Regression Results                  \n",
      "==============================================================================\n",
      "Dep. Variable:                  claim   No. Observations:                 1335\n",
      "Model:                            GLM   Df Residuals:                     1327\n",
      "Model Family:                   Gamma   Df Model:                            7\n",
      "Link Function:                    log   Scale:                         0.39997\n",
      "Method:                          IRLS   Log-Likelihood:                -13446.\n",
      "Date:                Sat, 26 Apr 2025   Deviance:                       506.26\n",
      "Time:                        18:48:54   Pearson chi2:                     531.\n",
      "No. Iterations:                    15   Pseudo R-squ. (CS):             0.6361\n",
      "Covariance Type:            nonrobust                                         \n",
      "=================================================================================\n",
      "                    coef    std err          z      P>|z|      [0.025      0.975]\n",
      "---------------------------------------------------------------------------------\n",
      "const             7.1286      0.190     37.496      0.000       6.756       7.501\n",
      "age               0.0011      0.002      0.629      0.529      -0.002       0.004\n",
      "bmi               0.0154      0.003      5.371      0.000       0.010       0.021\n",
      "bloodpressure     0.0145      0.002      8.555      0.000       0.011       0.018\n",
      "children          0.0698      0.014      4.850      0.000       0.042       0.098\n",
      "gender_male      -0.0335      0.038     -0.887      0.375      -0.108       0.041\n",
      "smoker_Yes        1.1642      0.047     24.524      0.000       1.071       1.257\n",
      "diabetic_Yes     -0.0247      0.035     -0.711      0.477      -0.093       0.043\n",
      "=================================================================================\n"
     ]
    }
   ],
   "source": [
    "# Define and fit the GLM model\n",
    "model = sm.GLM(y, X, family=sm.families.Gamma(link=sm.families.links.log()))\n",
    "result = model.fit()\n",
    "\n",
    "# Print the summary\n",
    "print(result.summary())\n"
   ]
  },
  {
   "cell_type": "code",
   "execution_count": null,
   "id": "bd34a37a",
   "metadata": {},
   "outputs": [],
   "source": [
    "# Calculate claim probability based on Age and PremiumAmount\n",
    "# Older individuals and lower premiums increase the probability of a claim\n",
    "df['ClaimProbability'] = (df['Age'] / df['Age'].max()) * 0.6 + (1 - (df['PremiumAmount'] / df['PremiumAmount'].max())) * 0.4\n",
    "\n",
    "# Simulate claim outcomes \n",
    "df['ClaimOutcome'] = np.random.binomial(1, df['ClaimProbability'])\n",
    "\n",
    "# df.drop(columns=['ClaimProbability'], inplace=True)\n",
    "\n",
    "df.head()  "
   ]
  },
  {
   "cell_type": "code",
   "execution_count": null,
   "id": "a0bb0f48",
   "metadata": {},
   "outputs": [],
   "source": [
    "df_encoded = pd.get_dummies(df, columns=['PolicyType'], drop_first=True)\n",
    "\n",
    "X = df_encoded[['Age', 'PremiumAmount', 'PolicyType_Home', 'PolicyType_Life']]\n",
    "y = df_encoded['ClaimOutcome']\n"
   ]
  },
  {
   "cell_type": "code",
   "execution_count": null,
   "id": "77531ee0",
   "metadata": {},
   "outputs": [],
   "source": [
    "import statsmodels.api as sm\n",
    "\n",
    "X = sm.add_constant(X)\n"
   ]
  },
  {
   "cell_type": "markdown",
   "id": "e99f12d2",
   "metadata": {},
   "source": []
  },
  {
   "cell_type": "code",
   "execution_count": null,
   "id": "c255c59a",
   "metadata": {},
   "outputs": [],
   "source": [
    "# Create and fit the GLM model\n",
    "model = sm.GLM(y, X, family=sm.families.Binomial())\n",
    "result = model.fit()\n",
    "\n",
    "print (result.summary())  # Display the model summary"
   ]
  },
  {
   "cell_type": "code",
   "execution_count": null,
   "id": "1d3da4f2",
   "metadata": {},
   "outputs": [],
   "source": [
    "# Predict claim probabilities\n",
    "df_encoded['Predicted_Prob'] = result.predict(X)\n"
   ]
  },
  {
   "cell_type": "code",
   "execution_count": null,
   "id": "e3f31391",
   "metadata": {},
   "outputs": [],
   "source": [
    "print(X.dtypes)\n"
   ]
  },
  {
   "cell_type": "code",
   "execution_count": null,
   "id": "1f78e280",
   "metadata": {},
   "outputs": [],
   "source": [
    "X['PolicyType_Home'] = X['PolicyType_Home'].astype(int)\n",
    "X['PolicyType_Life'] = X['PolicyType_Life'].astype(int)\n"
   ]
  },
  {
   "cell_type": "code",
   "execution_count": null,
   "id": "b3e7616c",
   "metadata": {},
   "outputs": [],
   "source": [
    "import matplotlib.pyplot as plt\n",
    "\n",
    "plt.scatter(df_encoded['Age'], df_encoded['Predicted_Prob'], alpha=0.5)\n",
    "plt.xlabel('Age')\n",
    "plt.ylabel('Predicted Claim Probability')\n",
    "plt.title('Predicted Claim Probability vs Age')\n",
    "plt.show()\n"
   ]
  }
 ],
 "metadata": {
  "kernelspec": {
   "display_name": "venv",
   "language": "python",
   "name": "python3"
  },
  "language_info": {
   "codemirror_mode": {
    "name": "ipython",
    "version": 3
   },
   "file_extension": ".py",
   "mimetype": "text/x-python",
   "name": "python",
   "nbconvert_exporter": "python",
   "pygments_lexer": "ipython3",
   "version": "3.11.9"
  }
 },
 "nbformat": 4,
 "nbformat_minor": 5
}
